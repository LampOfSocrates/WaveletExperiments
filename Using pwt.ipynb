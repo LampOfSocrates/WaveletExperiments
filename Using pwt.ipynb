{
 "cells": [
  {
   "cell_type": "markdown",
   "metadata": {},
   "source": [
    "## MultiScale analysis on timeseries\n",
    "\n",
    "A timeseries can have multiple features each happening at multiple scales. Wavelets are very useful in that regard"
   ]
  },
  {
   "cell_type": "code",
   "execution_count": 2,
   "metadata": {},
   "outputs": [],
   "source": [
    "def format_array(a):\n",
    "...     \"\"\"Consistent array representation across different systems\"\"\"\n",
    "...     import numpy\n",
    "...     a = numpy.where(numpy.abs(a) < 1e-5, 0, a)\n",
    "...     return numpy.array2string(a, precision=5, separator=' ', suppress_small=True)"
   ]
  },
  {
   "cell_type": "code",
   "execution_count": 3,
   "metadata": {},
   "outputs": [
    {
     "name": "stdout",
     "output_type": "stream",
     "text": [
      "haar ['haar']\n",
      "db ['db1', 'db2', 'db3', 'db4', 'db5', 'db6', 'db7', 'db8', 'db9', 'db10']\n",
      "sym ['sym2', 'sym3', 'sym4', 'sym5', 'sym6', 'sym7', 'sym8', 'sym9', 'sym10', 'sym11']\n",
      "coif ['coif1', 'coif2', 'coif3', 'coif4', 'coif5', 'coif6', 'coif7', 'coif8', 'coif9', 'coif10']\n",
      "bior ['bior1.1', 'bior1.3', 'bior1.5', 'bior2.2', 'bior2.4', 'bior2.6', 'bior2.8', 'bior3.1', 'bior3.3', 'bior3.5']\n",
      "rbio ['rbio1.1', 'rbio1.3', 'rbio1.5', 'rbio2.2', 'rbio2.4', 'rbio2.6', 'rbio2.8', 'rbio3.1', 'rbio3.3', 'rbio3.5']\n",
      "dmey ['dmey']\n",
      "gaus ['gaus1', 'gaus2', 'gaus3', 'gaus4', 'gaus5', 'gaus6', 'gaus7', 'gaus8']\n",
      "mexh ['mexh']\n",
      "morl ['morl']\n",
      "cgau ['cgau1', 'cgau2', 'cgau3', 'cgau4', 'cgau5', 'cgau6', 'cgau7', 'cgau8']\n",
      "shan ['shan']\n",
      "fbsp ['fbsp']\n",
      "cmor ['cmor']\n",
      "['zero', 'constant', 'symmetric', 'periodic', 'smooth', 'periodization', 'reflect']\n"
     ]
    }
   ],
   "source": [
    "import pywt\n",
    "\n",
    "# For each wavelet family supported in the family print the list of wavelet names\n",
    "for family in pywt.families():\n",
    "    print family, pywt.wavelist(family)[:10]\n",
    "    \n",
    "print(pywt.Modes.modes)"
   ]
  },
  {
   "cell_type": "code",
   "execution_count": 4,
   "metadata": {},
   "outputs": [
    {
     "name": "stdout",
     "output_type": "stream",
     "text": [
      "Wavelet haar\n",
      "  Family name:    Haar\n",
      "  Short name:     haar\n",
      "  Filters length: 2\n",
      "  Orthogonal:     True\n",
      "  Biorthogonal:   True\n",
      "  Symmetry:       asymmetric\n",
      "  DWT:            True\n",
      "  CWT:            False\n"
     ]
    }
   ],
   "source": [
    "w = pywt.Wavelet('haar')\n",
    "\n",
    "print w"
   ]
  },
  {
   "cell_type": "code",
   "execution_count": 5,
   "metadata": {},
   "outputs": [
    {
     "ename": "IOError",
     "evalue": "[Errno 2] No such file or directory: 'kitten.wav'",
     "output_type": "error",
     "traceback": [
      "\u001b[1;31m---------------------------------------------------------------------------\u001b[0m",
      "\u001b[1;31mIOError\u001b[0m                                   Traceback (most recent call last)",
      "\u001b[1;32m<ipython-input-5-54f2678108d5>\u001b[0m in \u001b[0;36m<module>\u001b[1;34m()\u001b[0m\n\u001b[0;32m     29\u001b[0m \u001b[1;33m\u001b[0m\u001b[0m\n\u001b[0;32m     30\u001b[0m \u001b[1;31m# Load the signal, take the first channel, limit length to a power of 2 for simplicity.\u001b[0m\u001b[1;33m\u001b[0m\u001b[1;33m\u001b[0m\u001b[0m\n\u001b[1;32m---> 31\u001b[1;33m \u001b[0mrate\u001b[0m\u001b[1;33m,\u001b[0m \u001b[0msignal\u001b[0m \u001b[1;33m=\u001b[0m \u001b[0mwavfile\u001b[0m\u001b[1;33m.\u001b[0m\u001b[0mread\u001b[0m\u001b[1;33m(\u001b[0m\u001b[1;34m'kitten.wav'\u001b[0m\u001b[1;33m)\u001b[0m\u001b[1;33m\u001b[0m\u001b[0m\n\u001b[0m\u001b[0;32m     32\u001b[0m \u001b[0msignal\u001b[0m \u001b[1;33m=\u001b[0m \u001b[0msignal\u001b[0m\u001b[1;33m[\u001b[0m\u001b[1;36m0\u001b[0m\u001b[1;33m:\u001b[0m\u001b[0mlepow2\u001b[0m\u001b[1;33m(\u001b[0m\u001b[0mlen\u001b[0m\u001b[1;33m(\u001b[0m\u001b[0msignal\u001b[0m\u001b[1;33m)\u001b[0m\u001b[1;33m)\u001b[0m\u001b[1;33m,\u001b[0m\u001b[1;36m0\u001b[0m\u001b[1;33m]\u001b[0m\u001b[1;33m\u001b[0m\u001b[0m\n\u001b[0;32m     33\u001b[0m \u001b[0mtree\u001b[0m \u001b[1;33m=\u001b[0m \u001b[0mpywt\u001b[0m\u001b[1;33m.\u001b[0m\u001b[0mwavedec\u001b[0m\u001b[1;33m(\u001b[0m\u001b[0msignal\u001b[0m\u001b[1;33m,\u001b[0m \u001b[1;34m'db5'\u001b[0m\u001b[1;33m)\u001b[0m\u001b[1;33m\u001b[0m\u001b[0m\n",
      "\u001b[1;32mD:\\MyPrograms\\Anaconda2\\lib\\site-packages\\scipy\\io\\wavfile.pyc\u001b[0m in \u001b[0;36mread\u001b[1;34m(filename, mmap)\u001b[0m\n\u001b[0;32m    231\u001b[0m         \u001b[0mmmap\u001b[0m \u001b[1;33m=\u001b[0m \u001b[0mFalse\u001b[0m\u001b[1;33m\u001b[0m\u001b[0m\n\u001b[0;32m    232\u001b[0m     \u001b[1;32melse\u001b[0m\u001b[1;33m:\u001b[0m\u001b[1;33m\u001b[0m\u001b[0m\n\u001b[1;32m--> 233\u001b[1;33m         \u001b[0mfid\u001b[0m \u001b[1;33m=\u001b[0m \u001b[0mopen\u001b[0m\u001b[1;33m(\u001b[0m\u001b[0mfilename\u001b[0m\u001b[1;33m,\u001b[0m \u001b[1;34m'rb'\u001b[0m\u001b[1;33m)\u001b[0m\u001b[1;33m\u001b[0m\u001b[0m\n\u001b[0m\u001b[0;32m    234\u001b[0m \u001b[1;33m\u001b[0m\u001b[0m\n\u001b[0;32m    235\u001b[0m     \u001b[1;32mtry\u001b[0m\u001b[1;33m:\u001b[0m\u001b[1;33m\u001b[0m\u001b[0m\n",
      "\u001b[1;31mIOError\u001b[0m: [Errno 2] No such file or directory: 'kitten.wav'"
     ]
    }
   ],
   "source": [
    "from pylab import *\n",
    "import pywt\n",
    "import scipy.io.wavfile as wavfile\n",
    "\n",
    "# Find the highest power of two less than or equal to the input.\n",
    "def lepow2(x):\n",
    "    return 2 ** floor(log2(x))\n",
    "\n",
    "# Make a scalogram given an MRA tree.\n",
    "def scalogram(data):\n",
    "    bottom = 0\n",
    "\n",
    "    vmin = min(map(lambda x: min(abs(x)), data))\n",
    "    vmax = max(map(lambda x: max(abs(x)), data))\n",
    "\n",
    "    gca().set_autoscale_on(False)\n",
    "\n",
    "    for row in range(0, len(data)):\n",
    "        scale = 2.0 ** (row - len(data))\n",
    "\n",
    "        imshow(\n",
    "            array([abs(data[row])]),\n",
    "            interpolation = 'nearest',\n",
    "            vmin = vmin,\n",
    "            vmax = vmax,\n",
    "            extent = [0, 1, bottom, bottom + scale])\n",
    "\n",
    "        bottom += scale\n",
    "\n",
    "# Load the signal, take the first channel, limit length to a power of 2 for simplicity.\n",
    "rate, signal = wavfile.read('kitten.wav')\n",
    "signal = signal[0:lepow2(len(signal)),0]\n",
    "tree = pywt.wavedec(signal, 'db5')\n",
    "\n",
    "# Plotting.\n",
    "gray()\n",
    "scalogram(tree)\n",
    "show()"
   ]
  },
  {
   "cell_type": "code",
   "execution_count": 17,
   "metadata": {},
   "outputs": [
    {
     "data": {
      "text/plain": [
       "array([ 41.01219331,  17.67766953,   4.94974747,  44.54772721,\n",
       "        12.02081528,  47.37615434,   3.53553391,   5.65685425])"
      ]
     },
     "execution_count": 17,
     "metadata": {},
     "output_type": "execute_result"
    }
   ],
   "source": [
    "ts = [2, 56, 3, 22, 3, 4, 56, 7, 8, 9, 44, 23, 1, 4, 6, 2]\n",
    "# obtain approximation and detailed coefficients\n",
    "(ca, cd) = pywt.dwt(ts,'haar')\n",
    "ca\n"
   ]
  },
  {
   "cell_type": "code",
   "execution_count": 23,
   "metadata": {},
   "outputs": [
    {
     "ename": "AttributeError",
     "evalue": "'module' object has no attribute 'thresholding'",
     "output_type": "error",
     "traceback": [
      "\u001b[1;31m---------------------------------------------------------------------------\u001b[0m",
      "\u001b[1;31mAttributeError\u001b[0m                            Traceback (most recent call last)",
      "\u001b[1;32m<ipython-input-23-8d365330a402>\u001b[0m in \u001b[0;36m<module>\u001b[1;34m()\u001b[0m\n\u001b[0;32m     14\u001b[0m \u001b[1;33m(\u001b[0m\u001b[0mca\u001b[0m\u001b[1;33m,\u001b[0m \u001b[0mcd\u001b[0m\u001b[1;33m)\u001b[0m \u001b[1;33m=\u001b[0m \u001b[0mpywt\u001b[0m\u001b[1;33m.\u001b[0m\u001b[0mdwt\u001b[0m\u001b[1;33m(\u001b[0m\u001b[0mts\u001b[0m\u001b[1;33m,\u001b[0m\u001b[1;34m'haar'\u001b[0m\u001b[1;33m)\u001b[0m\u001b[1;33m\u001b[0m\u001b[0m\n\u001b[0;32m     15\u001b[0m \u001b[1;33m\u001b[0m\u001b[0m\n\u001b[1;32m---> 16\u001b[1;33m \u001b[0mcat\u001b[0m \u001b[1;33m=\u001b[0m \u001b[0mpywt\u001b[0m\u001b[1;33m.\u001b[0m\u001b[0mthresholding\u001b[0m\u001b[1;33m.\u001b[0m\u001b[0msoft\u001b[0m\u001b[1;33m(\u001b[0m\u001b[0mca\u001b[0m\u001b[1;33m,\u001b[0m \u001b[0mnp\u001b[0m\u001b[1;33m.\u001b[0m\u001b[0mstd\u001b[0m\u001b[1;33m(\u001b[0m\u001b[0mca\u001b[0m\u001b[1;33m)\u001b[0m\u001b[1;33m/\u001b[0m\u001b[1;36m2\u001b[0m\u001b[1;33m)\u001b[0m\u001b[1;33m\u001b[0m\u001b[0m\n\u001b[0m\u001b[0;32m     17\u001b[0m \u001b[0mcdt\u001b[0m \u001b[1;33m=\u001b[0m \u001b[0mpywt\u001b[0m\u001b[1;33m.\u001b[0m\u001b[0mthresholding\u001b[0m\u001b[1;33m.\u001b[0m\u001b[0msoft\u001b[0m\u001b[1;33m(\u001b[0m\u001b[0mcd\u001b[0m\u001b[1;33m,\u001b[0m \u001b[0mnp\u001b[0m\u001b[1;33m.\u001b[0m\u001b[0mstd\u001b[0m\u001b[1;33m(\u001b[0m\u001b[0mcd\u001b[0m\u001b[1;33m)\u001b[0m\u001b[1;33m/\u001b[0m\u001b[1;36m2\u001b[0m\u001b[1;33m)\u001b[0m\u001b[1;33m\u001b[0m\u001b[0m\n\u001b[0;32m     18\u001b[0m \u001b[1;33m\u001b[0m\u001b[0m\n",
      "\u001b[1;31mAttributeError\u001b[0m: 'module' object has no attribute 'thresholding'"
     ]
    }
   ],
   "source": [
    "import pywt\n",
    "import matplotlib.pyplot as plt\n",
    "import numpy as np\n",
    "\n",
    "ts = [2, 56, 3, 22, 3, 4, 56, 7, 8, 9, 44, 23, 1, 4, 6, 2]\n",
    "\n",
    "(ca, cd) = pywt.dwt(ts,'haar')\n",
    "import pywt\n",
    "import matplotlib.pyplot as plt\n",
    "import numpy as np\n",
    "\n",
    "ts = [2, 56, 3, 22, 3, 4, 56, 7, 8, 9, 44, 23, 1, 4, 6, 2]\n",
    "\n",
    "(ca, cd) = pywt.dwt(ts,'haar')\n",
    "\n",
    "cat = pywt.thresholding.soft(ca, np.std(ca)/2)\n",
    "cdt = pywt.thresholding.soft(cd, np.std(cd)/2)\n",
    "\n",
    "ts_rec = pywt.idwt(cat, cdt, 'haar')\n",
    "\n",
    "plt.close('all')\n",
    "\n",
    "plt.subplot(211)\n",
    "# Original coefficients\n",
    "plt.plot(ca, '--*b')\n",
    "plt.plot(cd, '--*r')\n",
    "# Thresholded coefficients\n",
    "plt.plot(cat, '--*c')\n",
    "plt.plot(cdt, '--*m')\n",
    "plt.legend(['ca','cd','ca_thresh', 'cd_thresh'], loc=0)\n",
    "plt.grid('on')\n",
    "\n",
    "plt.subplot(212)\n",
    "plt.plot(ts)\n",
    "plt.hold('on')\n",
    "plt.plot(ts_rec, 'r')\n",
    "plt.legend(['original signal', 'reconstructed signal'])\n",
    "plt.grid('on')\n",
    "plt.show()\n"
   ]
  }
 ],
 "metadata": {
  "kernelspec": {
   "display_name": "Python 2",
   "language": "python",
   "name": "python2"
  },
  "language_info": {
   "codemirror_mode": {
    "name": "ipython",
    "version": 2
   },
   "file_extension": ".py",
   "mimetype": "text/x-python",
   "name": "python",
   "nbconvert_exporter": "python",
   "pygments_lexer": "ipython2",
   "version": "2.7.14"
  }
 },
 "nbformat": 4,
 "nbformat_minor": 2
}
